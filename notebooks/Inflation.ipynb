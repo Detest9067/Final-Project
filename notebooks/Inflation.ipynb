{
 "cells": [
  {
   "cell_type": "code",
   "execution_count": 18,
   "metadata": {},
   "outputs": [],
   "source": [
    "import sys\n",
    "sys.path.append(r\"/home/graham/Documents/Ironhack/Final-Project\")\n",
    "import src\n",
    "import matplotlib.pyplot as plt\n"
   ]
  },
  {
   "cell_type": "code",
   "execution_count": 3,
   "metadata": {},
   "outputs": [],
   "source": [
    "path = '/home/graham/Documents/Ironhack/Final-Project/data/Global Dataset of Inflation.csv'\n",
    "inflation_df = src.read_csv_file(path)\n"
   ]
  },
  {
   "cell_type": "code",
   "execution_count": 4,
   "metadata": {},
   "outputs": [],
   "source": [
    "# src.msno.matrix(inflation_df)"
   ]
  },
  {
   "cell_type": "code",
   "execution_count": 5,
   "metadata": {},
   "outputs": [
    {
     "name": "stdout",
     "output_type": "stream",
     "text": [
      "1990    294\n",
      "1991    276\n",
      "1992    264\n",
      "1993    247\n",
      "1994    231\n",
      "1995    224\n",
      "1996    213\n",
      "1997    208\n",
      "1998    199\n",
      "1999    192\n",
      "2000    187\n",
      "2001    173\n",
      "2002    158\n",
      "2003    154\n",
      "2004    149\n",
      "2005    137\n",
      "2006    122\n",
      "2007    112\n",
      "2008    103\n",
      "2009     97\n",
      "2010     90\n",
      "2011     96\n",
      "2012     87\n",
      "2013     68\n",
      "2014     49\n",
      "2015     48\n",
      "2016     37\n",
      "2017     46\n",
      "2018     46\n",
      "2019     55\n",
      "2020     64\n",
      "2021     77\n",
      "2022    118\n",
      "dtype: int64\n"
     ]
    }
   ],
   "source": [
    "null_counts = inflation_df.loc[:, '1990':'2022'].isnull().sum()\n",
    "\n",
    "print(null_counts)\n"
   ]
  },
  {
   "cell_type": "code",
   "execution_count": 6,
   "metadata": {},
   "outputs": [],
   "source": [
    "inflation_df = inflation_df.drop(inflation_df.loc[:,'1970':'2007'].columns, axis=1)\n",
    "\n"
   ]
  },
  {
   "cell_type": "code",
   "execution_count": 7,
   "metadata": {},
   "outputs": [],
   "source": [
    "drop_columns = inflation_df.filter(regex='Unnamed').columns\n",
    "inflation_df = inflation_df.drop(drop_columns, axis=1)"
   ]
  },
  {
   "cell_type": "code",
   "execution_count": 8,
   "metadata": {},
   "outputs": [
    {
     "name": "stdout",
     "output_type": "stream",
     "text": [
      "Country Code: 0\n",
      "IMF Country Code: 2\n",
      "Country: 0\n",
      "Indicator Type: 0\n",
      "Series Name: 0\n",
      "2008: 103\n",
      "2009: 97\n",
      "2010: 90\n",
      "2011: 96\n",
      "2012: 87\n",
      "2013: 68\n",
      "2014: 49\n",
      "2015: 48\n",
      "2016: 37\n",
      "2017: 46\n",
      "2018: 46\n",
      "2019: 55\n",
      "2020: 64\n",
      "2021: 77\n",
      "2022: 118\n",
      "Note: 0\n"
     ]
    }
   ],
   "source": [
    "for column in inflation_df.columns:\n",
    "    null_count = inflation_df[column].isnull().sum()\n",
    "    print(f\"{column}: {null_count}\")"
   ]
  },
  {
   "cell_type": "code",
   "execution_count": 9,
   "metadata": {},
   "outputs": [
    {
     "data": {
      "text/html": [
       "<div>\n",
       "<style scoped>\n",
       "    .dataframe tbody tr th:only-of-type {\n",
       "        vertical-align: middle;\n",
       "    }\n",
       "\n",
       "    .dataframe tbody tr th {\n",
       "        vertical-align: top;\n",
       "    }\n",
       "\n",
       "    .dataframe thead th {\n",
       "        text-align: right;\n",
       "    }\n",
       "</style>\n",
       "<table border=\"1\" class=\"dataframe\">\n",
       "  <thead>\n",
       "    <tr style=\"text-align: right;\">\n",
       "      <th></th>\n",
       "      <th>Country Code</th>\n",
       "      <th>IMF Country Code</th>\n",
       "      <th>Country</th>\n",
       "      <th>Indicator Type</th>\n",
       "      <th>Series Name</th>\n",
       "      <th>2008</th>\n",
       "      <th>2009</th>\n",
       "      <th>2010</th>\n",
       "      <th>2011</th>\n",
       "      <th>2012</th>\n",
       "      <th>...</th>\n",
       "      <th>2014</th>\n",
       "      <th>2015</th>\n",
       "      <th>2016</th>\n",
       "      <th>2017</th>\n",
       "      <th>2018</th>\n",
       "      <th>2019</th>\n",
       "      <th>2020</th>\n",
       "      <th>2021</th>\n",
       "      <th>2022</th>\n",
       "      <th>Note</th>\n",
       "    </tr>\n",
       "  </thead>\n",
       "  <tbody>\n",
       "    <tr>\n",
       "      <th>0</th>\n",
       "      <td>ABW</td>\n",
       "      <td>314.0</td>\n",
       "      <td>Aruba</td>\n",
       "      <td>Inflation</td>\n",
       "      <td>Headline Consumer Price Inflation</td>\n",
       "      <td>8.96</td>\n",
       "      <td>-2.14</td>\n",
       "      <td>2.08</td>\n",
       "      <td>4.32</td>\n",
       "      <td>0.63</td>\n",
       "      <td>...</td>\n",
       "      <td>0.42</td>\n",
       "      <td>0.48</td>\n",
       "      <td>-0.89</td>\n",
       "      <td>-0.47</td>\n",
       "      <td>3.58</td>\n",
       "      <td>4.26</td>\n",
       "      <td>1.22</td>\n",
       "      <td>0.74</td>\n",
       "      <td>6.04</td>\n",
       "      <td>Annual average inflation</td>\n",
       "    </tr>\n",
       "    <tr>\n",
       "      <th>2</th>\n",
       "      <td>AGO</td>\n",
       "      <td>614.0</td>\n",
       "      <td>Angola</td>\n",
       "      <td>Inflation</td>\n",
       "      <td>Headline Consumer Price Inflation</td>\n",
       "      <td>12.47</td>\n",
       "      <td>13.72</td>\n",
       "      <td>14.48</td>\n",
       "      <td>13.48</td>\n",
       "      <td>10.28</td>\n",
       "      <td>...</td>\n",
       "      <td>7.30</td>\n",
       "      <td>9.16</td>\n",
       "      <td>32.38</td>\n",
       "      <td>29.84</td>\n",
       "      <td>19.63</td>\n",
       "      <td>17.08</td>\n",
       "      <td>21.02</td>\n",
       "      <td>23.85</td>\n",
       "      <td>21.35</td>\n",
       "      <td>Annual average inflation</td>\n",
       "    </tr>\n",
       "    <tr>\n",
       "      <th>3</th>\n",
       "      <td>ALB</td>\n",
       "      <td>914.0</td>\n",
       "      <td>Albania</td>\n",
       "      <td>Inflation</td>\n",
       "      <td>Headline Consumer Price Inflation</td>\n",
       "      <td>3.41</td>\n",
       "      <td>2.29</td>\n",
       "      <td>3.57</td>\n",
       "      <td>3.41</td>\n",
       "      <td>2.03</td>\n",
       "      <td>...</td>\n",
       "      <td>1.62</td>\n",
       "      <td>1.91</td>\n",
       "      <td>1.29</td>\n",
       "      <td>1.99</td>\n",
       "      <td>2.03</td>\n",
       "      <td>1.41</td>\n",
       "      <td>1.62</td>\n",
       "      <td>2.04</td>\n",
       "      <td>6.73</td>\n",
       "      <td>Annual average inflation</td>\n",
       "    </tr>\n",
       "    <tr>\n",
       "      <th>4</th>\n",
       "      <td>ARE</td>\n",
       "      <td>466.0</td>\n",
       "      <td>United Arab Emirates</td>\n",
       "      <td>Inflation</td>\n",
       "      <td>Headline Consumer Price Inflation</td>\n",
       "      <td>12.27</td>\n",
       "      <td>1.57</td>\n",
       "      <td>0.88</td>\n",
       "      <td>0.88</td>\n",
       "      <td>0.66</td>\n",
       "      <td>...</td>\n",
       "      <td>2.34</td>\n",
       "      <td>4.07</td>\n",
       "      <td>1.62</td>\n",
       "      <td>1.97</td>\n",
       "      <td>3.06</td>\n",
       "      <td>-1.93</td>\n",
       "      <td>-2.08</td>\n",
       "      <td>0.18</td>\n",
       "      <td>5.22</td>\n",
       "      <td>Annual average inflation</td>\n",
       "    </tr>\n",
       "    <tr>\n",
       "      <th>5</th>\n",
       "      <td>ARG</td>\n",
       "      <td>213.0</td>\n",
       "      <td>Argentina</td>\n",
       "      <td>Inflation</td>\n",
       "      <td>Headline Consumer Price Inflation</td>\n",
       "      <td>8.59</td>\n",
       "      <td>6.27</td>\n",
       "      <td>10.46</td>\n",
       "      <td>9.77</td>\n",
       "      <td>10.04</td>\n",
       "      <td>...</td>\n",
       "      <td>38.08</td>\n",
       "      <td>26.54</td>\n",
       "      <td>39.40</td>\n",
       "      <td>25.68</td>\n",
       "      <td>34.28</td>\n",
       "      <td>53.55</td>\n",
       "      <td>42.02</td>\n",
       "      <td>48.41</td>\n",
       "      <td>72.43</td>\n",
       "      <td>Annual average inflation</td>\n",
       "    </tr>\n",
       "    <tr>\n",
       "      <th>...</th>\n",
       "      <td>...</td>\n",
       "      <td>...</td>\n",
       "      <td>...</td>\n",
       "      <td>...</td>\n",
       "      <td>...</td>\n",
       "      <td>...</td>\n",
       "      <td>...</td>\n",
       "      <td>...</td>\n",
       "      <td>...</td>\n",
       "      <td>...</td>\n",
       "      <td>...</td>\n",
       "      <td>...</td>\n",
       "      <td>...</td>\n",
       "      <td>...</td>\n",
       "      <td>...</td>\n",
       "      <td>...</td>\n",
       "      <td>...</td>\n",
       "      <td>...</td>\n",
       "      <td>...</td>\n",
       "      <td>...</td>\n",
       "      <td>...</td>\n",
       "    </tr>\n",
       "    <tr>\n",
       "      <th>770</th>\n",
       "      <td>TUR</td>\n",
       "      <td>186.0</td>\n",
       "      <td>Turkey</td>\n",
       "      <td>Inflation</td>\n",
       "      <td>Producer Price Inflation</td>\n",
       "      <td>12.72</td>\n",
       "      <td>1.23</td>\n",
       "      <td>8.52</td>\n",
       "      <td>11.09</td>\n",
       "      <td>6.09</td>\n",
       "      <td>...</td>\n",
       "      <td>10.25</td>\n",
       "      <td>5.28</td>\n",
       "      <td>4.30</td>\n",
       "      <td>15.82</td>\n",
       "      <td>27.01</td>\n",
       "      <td>17.56</td>\n",
       "      <td>12.14</td>\n",
       "      <td>43.86</td>\n",
       "      <td>130.85</td>\n",
       "      <td>Producer Price Index, All Commodities</td>\n",
       "    </tr>\n",
       "    <tr>\n",
       "      <th>774</th>\n",
       "      <td>UKR</td>\n",
       "      <td>926.0</td>\n",
       "      <td>Ukraine</td>\n",
       "      <td>Inflation</td>\n",
       "      <td>Producer Price Inflation</td>\n",
       "      <td>35.56</td>\n",
       "      <td>6.59</td>\n",
       "      <td>20.88</td>\n",
       "      <td>19.00</td>\n",
       "      <td>3.65</td>\n",
       "      <td>...</td>\n",
       "      <td>17.17</td>\n",
       "      <td>35.69</td>\n",
       "      <td>20.92</td>\n",
       "      <td>26.45</td>\n",
       "      <td>17.58</td>\n",
       "      <td>4.14</td>\n",
       "      <td>-1.88</td>\n",
       "      <td>40.82</td>\n",
       "      <td>61.05</td>\n",
       "      <td>Producer Price Index, All Commodities</td>\n",
       "    </tr>\n",
       "    <tr>\n",
       "      <th>775</th>\n",
       "      <td>URY</td>\n",
       "      <td>298.0</td>\n",
       "      <td>Uruguay</td>\n",
       "      <td>Inflation</td>\n",
       "      <td>Producer Price Inflation</td>\n",
       "      <td>16.94</td>\n",
       "      <td>2.11</td>\n",
       "      <td>7.61</td>\n",
       "      <td>15.93</td>\n",
       "      <td>6.43</td>\n",
       "      <td>...</td>\n",
       "      <td>10.41</td>\n",
       "      <td>6.83</td>\n",
       "      <td>3.35</td>\n",
       "      <td>1.67</td>\n",
       "      <td>9.67</td>\n",
       "      <td>12.78</td>\n",
       "      <td>10.46</td>\n",
       "      <td>14.42</td>\n",
       "      <td>14.19</td>\n",
       "      <td>Producer Price Index, All Commodities</td>\n",
       "    </tr>\n",
       "    <tr>\n",
       "      <th>776</th>\n",
       "      <td>USA</td>\n",
       "      <td>111.0</td>\n",
       "      <td>United States</td>\n",
       "      <td>Inflation</td>\n",
       "      <td>Producer Price Inflation</td>\n",
       "      <td>9.81</td>\n",
       "      <td>-8.84</td>\n",
       "      <td>4.48</td>\n",
       "      <td>3.87</td>\n",
       "      <td>1.86</td>\n",
       "      <td>...</td>\n",
       "      <td>1.58</td>\n",
       "      <td>-0.87</td>\n",
       "      <td>0.42</td>\n",
       "      <td>2.33</td>\n",
       "      <td>2.90</td>\n",
       "      <td>1.69</td>\n",
       "      <td>-2.12</td>\n",
       "      <td>8.95</td>\n",
       "      <td>7.91</td>\n",
       "      <td>Producer Price Index, All Commodities</td>\n",
       "    </tr>\n",
       "    <tr>\n",
       "      <th>781</th>\n",
       "      <td>ZAF</td>\n",
       "      <td>199.0</td>\n",
       "      <td>South Africa</td>\n",
       "      <td>Inflation</td>\n",
       "      <td>Producer Price Inflation</td>\n",
       "      <td>8.08</td>\n",
       "      <td>-5.50</td>\n",
       "      <td>7.08</td>\n",
       "      <td>8.91</td>\n",
       "      <td>4.47</td>\n",
       "      <td>...</td>\n",
       "      <td>7.40</td>\n",
       "      <td>3.61</td>\n",
       "      <td>7.08</td>\n",
       "      <td>4.88</td>\n",
       "      <td>5.45</td>\n",
       "      <td>4.62</td>\n",
       "      <td>2.49</td>\n",
       "      <td>7.12</td>\n",
       "      <td>14.36</td>\n",
       "      <td>Producer Price Index, All Commodities</td>\n",
       "    </tr>\n",
       "  </tbody>\n",
       "</table>\n",
       "<p>586 rows × 21 columns</p>\n",
       "</div>"
      ],
      "text/plain": [
       "    Country Code  IMF Country Code               Country Indicator Type  \\\n",
       "0            ABW             314.0                 Aruba      Inflation   \n",
       "2            AGO             614.0                Angola      Inflation   \n",
       "3            ALB             914.0               Albania      Inflation   \n",
       "4            ARE             466.0  United Arab Emirates      Inflation   \n",
       "5            ARG             213.0             Argentina      Inflation   \n",
       "..           ...               ...                   ...            ...   \n",
       "770          TUR             186.0                Turkey      Inflation   \n",
       "774          UKR             926.0               Ukraine      Inflation   \n",
       "775          URY             298.0               Uruguay      Inflation   \n",
       "776          USA             111.0         United States      Inflation   \n",
       "781          ZAF             199.0          South Africa      Inflation   \n",
       "\n",
       "                           Series Name   2008   2009   2010   2011   2012  \\\n",
       "0    Headline Consumer Price Inflation   8.96  -2.14   2.08   4.32   0.63   \n",
       "2    Headline Consumer Price Inflation  12.47  13.72  14.48  13.48  10.28   \n",
       "3    Headline Consumer Price Inflation   3.41   2.29   3.57   3.41   2.03   \n",
       "4    Headline Consumer Price Inflation  12.27   1.57   0.88   0.88   0.66   \n",
       "5    Headline Consumer Price Inflation   8.59   6.27  10.46   9.77  10.04   \n",
       "..                                 ...    ...    ...    ...    ...    ...   \n",
       "770           Producer Price Inflation  12.72   1.23   8.52  11.09   6.09   \n",
       "774           Producer Price Inflation  35.56   6.59  20.88  19.00   3.65   \n",
       "775           Producer Price Inflation  16.94   2.11   7.61  15.93   6.43   \n",
       "776           Producer Price Inflation   9.81  -8.84   4.48   3.87   1.86   \n",
       "781           Producer Price Inflation   8.08  -5.50   7.08   8.91   4.47   \n",
       "\n",
       "     ...   2014   2015   2016   2017   2018   2019   2020   2021    2022  \\\n",
       "0    ...   0.42   0.48  -0.89  -0.47   3.58   4.26   1.22   0.74    6.04   \n",
       "2    ...   7.30   9.16  32.38  29.84  19.63  17.08  21.02  23.85   21.35   \n",
       "3    ...   1.62   1.91   1.29   1.99   2.03   1.41   1.62   2.04    6.73   \n",
       "4    ...   2.34   4.07   1.62   1.97   3.06  -1.93  -2.08   0.18    5.22   \n",
       "5    ...  38.08  26.54  39.40  25.68  34.28  53.55  42.02  48.41   72.43   \n",
       "..   ...    ...    ...    ...    ...    ...    ...    ...    ...     ...   \n",
       "770  ...  10.25   5.28   4.30  15.82  27.01  17.56  12.14  43.86  130.85   \n",
       "774  ...  17.17  35.69  20.92  26.45  17.58   4.14  -1.88  40.82   61.05   \n",
       "775  ...  10.41   6.83   3.35   1.67   9.67  12.78  10.46  14.42   14.19   \n",
       "776  ...   1.58  -0.87   0.42   2.33   2.90   1.69  -2.12   8.95    7.91   \n",
       "781  ...   7.40   3.61   7.08   4.88   5.45   4.62   2.49   7.12   14.36   \n",
       "\n",
       "                                       Note  \n",
       "0                  Annual average inflation  \n",
       "2                  Annual average inflation  \n",
       "3                  Annual average inflation  \n",
       "4                  Annual average inflation  \n",
       "5                  Annual average inflation  \n",
       "..                                      ...  \n",
       "770   Producer Price Index, All Commodities  \n",
       "774   Producer Price Index, All Commodities  \n",
       "775   Producer Price Index, All Commodities  \n",
       "776   Producer Price Index, All Commodities  \n",
       "781   Producer Price Index, All Commodities  \n",
       "\n",
       "[586 rows x 21 columns]"
      ]
     },
     "execution_count": 9,
     "metadata": {},
     "output_type": "execute_result"
    }
   ],
   "source": [
    "inflation_df.dropna()"
   ]
  },
  {
   "cell_type": "code",
   "execution_count": 10,
   "metadata": {},
   "outputs": [],
   "source": [
    "df_filtered = inflation_df[inflation_df.apply(lambda row: \"Headline Consumer Price Inflation\" in row.values, axis=1)]\n"
   ]
  },
  {
   "cell_type": "code",
   "execution_count": 11,
   "metadata": {},
   "outputs": [],
   "source": [
    "df_filtered = df_filtered.dropna()"
   ]
  },
  {
   "cell_type": "code",
   "execution_count": 12,
   "metadata": {},
   "outputs": [],
   "source": [
    "df_filtered['mean_inflation'] = df_filtered.loc[:, '2008':'2022'].mean(axis=1)\n"
   ]
  },
  {
   "cell_type": "code",
   "execution_count": 13,
   "metadata": {},
   "outputs": [],
   "source": [
    "sorted_df = df_filtered.sort_values('mean_inflation', ascending=False)\n"
   ]
  },
  {
   "cell_type": "code",
   "execution_count": 14,
   "metadata": {},
   "outputs": [
    {
     "name": "stdout",
     "output_type": "stream",
     "text": [
      "Top 10 countries with highest mean inflation:\n",
      "                Country  mean_inflation\n",
      "185       Venezuela, RB     6032.932667\n",
      "151               Sudan     1195.502667\n",
      "192            Zimbabwe       91.891333\n",
      "98              Lebanon       30.258000\n",
      "5             Argentina       29.076000\n",
      "81   Iran, Islamic Rep.       24.292000\n",
      "189         Yemen, Rep.       20.696667\n",
      "161            Suriname       20.546667\n",
      "56             Ethiopia       18.178667\n",
      "20              Belarus       17.087333\n"
     ]
    }
   ],
   "source": [
    "print(\"Top 10 countries with highest mean inflation:\")\n",
    "print(sorted_df[['Country', 'mean_inflation']].head(10))\n"
   ]
  },
  {
   "cell_type": "code",
   "execution_count": 15,
   "metadata": {},
   "outputs": [
    {
     "name": "stdout",
     "output_type": "stream",
     "text": [
      "Top 10 countries with lowest mean inflation:\n",
      "                 Country  mean_inflation\n",
      "59                France        1.447333\n",
      "142          Puerto Rico        1.428000\n",
      "47              Dominica        1.403333\n",
      "70               Grenada        1.382667\n",
      "43                Cyprus        1.250000\n",
      "94   St. Kitts and Nevis        1.104667\n",
      "80               Ireland        0.985333\n",
      "25     Brunei Darussalam        0.644667\n",
      "88                 Japan        0.463333\n",
      "31           Switzerland        0.324000\n"
     ]
    }
   ],
   "source": [
    "print(\"Top 10 countries with lowest mean inflation:\")\n",
    "print(sorted_df[['Country', 'mean_inflation']].tail(10))"
   ]
  },
  {
   "cell_type": "code",
   "execution_count": 16,
   "metadata": {},
   "outputs": [],
   "source": [
    "top_10 = sorted_df.head(10)\n",
    "bottom_10 = sorted_df.tail(10)"
   ]
  },
  {
   "cell_type": "code",
   "execution_count": 19,
   "metadata": {},
   "outputs": [
    {
     "data": {
      "image/png": "[encoded data removed]",
      "text/plain": [
       "<Figure size 1200x600 with 1 Axes>"
      ]
     },
     "metadata": {},
     "output_type": "display_data"
    }
   ],
   "source": [
    "fig, ax = plt.subplots(figsize=(12,6))\n",
    "\n",
    "ax.bar(sorted_df.head(10)['Country'], sorted_df.head(10)['mean_inflation'], color='green')\n",
    "ax.bar(sorted_df.tail(10)['Country'], sorted_df.tail(10)['mean_inflation'], color='red')\n",
    "ax.set_yscale('log')\n",
    "\n",
    "ax.set_xlabel('Country')\n",
    "ax.set_ylabel('Mean Inflation (log scale)')\n",
    "ax.set_title('Top 10 and Bottom 10 Mean Inflation Rates')\n",
    "plt.xticks(rotation=270)\n",
    "\n",
    "plt.show()\n"
   ]
  },
  {
   "cell_type": "code",
   "execution_count": null,
   "metadata": {},
   "outputs": [
    {
     "data": {
      "application/vnd.plotly.v1+json": {
       "config": {
        "plotlyServerURL": "https://plot.ly"
       },
       "data": [
        {
         "colorbar": {
          "ticktext": [
           "< -5",
           "0",
           "5",
           "10",
           "15",
           "> 20"
          ],
          "tickvals": [
           -5,
           0,
           5,
           10,
           15,
           20
          ],
          "title": {
           "text": "Mean Inflation"
          }
         },
         "colorscale": [
          [
           0,
           "#440154"
          ],
          [
           0.1111111111111111,
           "#482878"
          ],
          [
           0.2222222222222222,
           "#3e4989"
          ],
          [
           0.3333333333333333,
           "#31688e"
          ],
          [
           0.4444444444444444,
           "#26828e"
          ],
          [
           0.5555555555555556,
           "#1f9e89"
          ],
          [
           0.6666666666666666,
           "#35b779"
          ],
          [
           0.7777777777777778,
           "#6ece58"
          ],
          [
           0.8888888888888888,
           "#b5de2b"
          ],
          [
           1,
           "#fde725"
          ]
         ],
         "locations": [
          "VEN",
          "SDN",
          "ZWE",
          "LBN",
          "ARG",
          "IRN",
          "YEM",
          "SUR",
          "ETH",
          "BLR",
          "AGO",
          "COD",
          "TUR",
          "MWI",
          "UKR",
          "GHA",
          "NGA",
          "UZB",
          "EGY",
          "HTI",
          "GIN",
          "LBR",
          "STP",
          "SLE",
          "ZMB",
          "PAK",
          "LBY",
          "MNG",
          "BDI",
          "LKA",
          "KAZ",
          "URY",
          "TJK",
          "RUS",
          "KGZ",
          "TKM",
          "JAM",
          "KEN",
          "MOZ",
          "NPL",
          "MDA",
          "MDG",
          "SYC",
          "IND",
          "TZA",
          "UGA",
          "MMR",
          "BGD",
          "BTN",
          "VNM",
          "NIC",
          "AZE",
          "GMB",
          "RWA",
          "SWZ",
          "BWA",
          "BRA",
          "LSO",
          "ZAF",
          "ERI",
          "PNG",
          "NAM",
          "DZA",
          "SRB",
          "HND",
          "TUN",
          "LAO",
          "GEO",
          "TTO",
          "ISL",
          "PRY",
          "DOM",
          "CAF",
          "IDN",
          "GTM",
          "KHM",
          "MEX",
          "COL",
          "BOL",
          "CRI",
          "BRB",
          "ARM",
          "ROU",
          "SLB",
          "MDV",
          "LTU",
          "MUS",
          "HUN",
          "EST",
          "PHL",
          "CHL",
          "MRT",
          "LVA",
          "MAC",
          "TON",
          "DJI",
          "PER",
          "BGR",
          "NRU",
          "COM",
          "GNQ",
          "JOR",
          "KWT",
          "POL",
          "SAU",
          "PLW",
          "CZE",
          "FJI",
          "MNE",
          "TCD",
          "ECU",
          "WSM",
          "FSM",
          "GUY",
          "HKG",
          "COG",
          "MKD",
          "TGO",
          "SVK",
          "TUV",
          "PAN",
          "GBR",
          "VUT",
          "NOR",
          "BFA",
          "AUS",
          "MHL",
          "ALB",
          "CMR",
          "CHN",
          "MLI",
          "GAB",
          "OMN",
          "BEL",
          "USA",
          "AUT",
          "ATG",
          "NLD",
          "NZL",
          "CIV",
          "IRQ",
          "KOR",
          "GNB",
          "HRV",
          "MYS",
          "SGP",
          "ARE",
          "KIR",
          "BEN",
          "CAN",
          "BHS",
          "NER",
          "LUX",
          "SLV",
          "SVN",
          "BIH",
          "CPV",
          "MLT",
          "LCA",
          "SEN",
          "DEU",
          "QAT",
          "ESP",
          "VCT",
          "THA",
          "ABW",
          "DNK",
          "CYM",
          "FIN",
          "BHR",
          "ITA",
          "SWE",
          "MAR",
          "SMR",
          "ISR",
          "PRT",
          "GRC",
          "BLZ",
          "FRA",
          "PRI",
          "DMA",
          "GRD",
          "CYP",
          "KNA",
          "IRL",
          "BRN",
          "JPN",
          "CHE"
         ],
         "text": [
          "Venezuela, RB",
          "Sudan",
          "Zimbabwe",
          "Lebanon",
          "Argentina",
          "Iran, Islamic Rep.",
          "Yemen, Rep.",
          "Suriname",
          "Ethiopia",
          "Belarus",
          "Angola",
          "Congo, Dem. Rep.",
          "Turkey",
          "Malawi",
          "Ukraine",
          "Ghana",
          "Nigeria",
          "Uzbekistan",
          "Egypt, Arab Rep.",
          "Haiti",
          "Guinea",
          "Liberia",
          "São Tomé and Principe",
          "Sierra Leone",
          "Zambia",
          "Pakistan",
          "Libya",
          "Mongolia",
          "Burundi",
          "Sri Lanka",
          "Kazakhstan",
          "Uruguay",
          "Tajikistan",
          "Russian Federation",
          "Kyrgyz Republic",
          "Turkmenistan",
          "Jamaica",
          "Kenya",
          "Mozambique",
          "Nepal",
          "Moldova",
          "Madagascar",
          "Seychelles",
          "India",
          "Tanzania",
          "Uganda",
          "Myanmar",
          "Bangladesh",
          "Bhutan",
          "Vietnam",
          "Nicaragua",
          "Azerbaijan",
          "Gambia, The",
          "Rwanda",
          "Swaziland",
          "Botswana",
          "Brazil",
          "Lesotho",
          "South Africa",
          "Eritrea",
          "Papua New Guinea",
          "Namibia",
          "Algeria",
          "Serbia",
          "Honduras",
          "Tunisia",
          "Lao PDR",
          "Georgia",
          "Trinidad and Tobago",
          "Iceland",
          "Paraguay",
          "Dominican Republic",
          "Central African Republic",
          "Indonesia",
          "Guatemala",
          "Cambodia",
          "Mexico",
          "Colombia",
          "Bolivia",
          "Costa Rica",
          "Barbados",
          "Armenia",
          "Romania",
          "Solomon Islands",
          "Maldives",
          "Lithuania",
          "Mauritius",
          "Hungary",
          "Estonia",
          "Philippines",
          "Chile",
          "Mauritania",
          "Latvia",
          "Macao SAR, China",
          "Tonga",
          "Djibouti",
          "Peru",
          "Bulgaria",
          "Nauru",
          "Comoros",
          "Equatorial Guinea",
          "Jordan",
          "Kuwait",
          "Poland",
          "Saudi Arabia",
          "Palau",
          "Czech Republic",
          "Fiji",
          "Montenegro",
          "Chad",
          "Ecuador",
          "Samoa",
          "Micronesia, Fed. Sts.",
          "Guyana",
          "Hong Kong SAR, China",
          "Congo, Rep.",
          "Macedonia, FYR",
          "Togo",
          "Slovak Republic",
          "Tuvalu",
          "Panama",
          "United Kingdom",
          "Vanuatu",
          "Norway",
          "Burkina Faso",
          "Australia",
          "Marshall Islands",
          "Albania",
          "Cameroon",
          "China",
          "Mali",
          "Gabon",
          "Oman",
          "Belgium",
          "United States",
          "Austria",
          "Antigua and Barbuda",
          "Netherlands",
          "New Zealand",
          "Côte d'Ivoire",
          "Iraq",
          "Korea, Rep.",
          "Guinea-Bissau",
          "Croatia",
          "Malaysia",
          "Singapore",
          "United Arab Emirates",
          "Kiribati",
          "Benin",
          "Canada",
          "Bahamas, The",
          "Niger",
          "Luxembourg",
          "El Salvador",
          "Slovenia",
          "Bosnia and Herzegovina",
          "Cabo Verde",
          "Malta",
          "St. Lucia",
          "Senegal",
          "Germany",
          "Qatar",
          "Spain",
          "St. Vincent and the Grenadines",
          "Thailand",
          "Aruba",
          "Denmark",
          "Cayman Islands",
          "Finland",
          "Bahrain",
          "Italy",
          "Sweden",
          "Morocco",
          "San Marino",
          "Israel",
          "Portugal",
          "Greece",
          "Belize",
          "France",
          "Puerto Rico",
          "Dominica",
          "Grenada",
          "Cyprus",
          "St. Kitts and Nevis",
          "Ireland",
          "Brunei Darussalam",
          "Japan",
          "Switzerland"
         ],
         "type": "choropleth",
         "z": [
          6032.932666666666,
          1195.5026666666668,
          91.89133333333334,
          30.257999999999996,
          29.076000000000004,
          24.292000000000005,
          20.69666666666667,
          20.546666666666667,
          18.17866666666667,
          17.087333333333333,
          16.988000000000003,
          14.887333333333334,
          14.616666666666667,
          14.377999999999997,
          13.260666666666664,
          12.937999999999999,
          12.744,
          12.017333333333333,
          11.918,
          11.882666666666665,
          11.81,
          11.40933333333333,
          11.068000000000003,
          10.950666666666667,
          10.849333333333334,
          9.513333333333332,
          9.360000000000001,
          9.346666666666666,
          9.25,
          8.51,
          8.482000000000001,
          8.128666666666668,
          7.9893333333333345,
          7.874,
          7.848000000000001,
          7.816666666666666,
          7.715333333333334,
          7.712,
          7.581333333333333,
          7.396,
          7.334666666666666,
          7.311333333333334,
          7.294666666666667,
          7.258666666666667,
          7.109333333333334,
          6.978666666666667,
          6.825333333333332,
          6.7219999999999995,
          6.679999999999999,
          6.589333333333333,
          6.545333333333332,
          6.537999999999999,
          6.3546666666666685,
          6.005333333333334,
          6.005333333333334,
          5.994666666666666,
          5.973333333333333,
          5.626,
          5.591333333333333,
          5.5619999999999985,
          5.528666666666666,
          5.482666666666666,
          5.481333333333334,
          5.468000000000001,
          5.359333333333334,
          5.173333333333334,
          5.119333333333333,
          5.022,
          4.947999999999999,
          4.770666666666666,
          4.725333333333334,
          4.694000000000001,
          4.656,
          4.64,
          4.5280000000000005,
          4.468666666666667,
          4.468666666666667,
          4.3180000000000005,
          4.252666666666667,
          4.233999999999999,
          4.221333333333335,
          4.218,
          4.191999999999999,
          4.052666666666667,
          3.9866666666666664,
          3.9560000000000004,
          3.952,
          3.8793333333333333,
          3.8306666666666667,
          3.824666666666666,
          3.8219999999999996,
          3.8140000000000005,
          3.623333333333334,
          3.456,
          3.4259999999999993,
          3.4146666666666667,
          3.3813333333333335,
          3.302666666666666,
          3.293333333333334,
          3.2113333333333336,
          3.1593333333333335,
          3.150666666666667,
          3.127333333333333,
          3.1146666666666665,
          3.102,
          3.098666666666666,
          3.0926666666666667,
          3.049333333333333,
          2.9240000000000004,
          2.864,
          2.828,
          2.8160000000000003,
          2.7833333333333328,
          2.775333333333333,
          2.7499999999999996,
          2.746,
          2.6993333333333336,
          2.67,
          2.649333333333333,
          2.574666666666667,
          2.5340000000000007,
          2.5126666666666666,
          2.5126666666666666,
          2.5073333333333334,
          2.505333333333333,
          2.4993333333333334,
          2.495333333333334,
          2.4853333333333336,
          2.428,
          2.4233333333333333,
          2.3926666666666665,
          2.373333333333333,
          2.3633333333333337,
          2.352,
          2.342,
          2.3393333333333337,
          2.263333333333333,
          2.2526666666666673,
          2.2513333333333336,
          2.2346666666666666,
          2.194666666666666,
          2.1846666666666663,
          2.1806666666666663,
          2.1726666666666663,
          2.1439999999999997,
          2.1273333333333335,
          2.1199999999999997,
          2.0853333333333333,
          2.0799999999999996,
          2.0686666666666667,
          2.0246666666666666,
          2.0180000000000002,
          2.0113333333333334,
          2.0053333333333336,
          1.97,
          1.9433333333333331,
          1.9313333333333333,
          1.9113333333333336,
          1.884,
          1.864,
          1.858666666666667,
          1.8246666666666662,
          1.8206666666666664,
          1.8146666666666662,
          1.797333333333334,
          1.7906666666666664,
          1.7873333333333334,
          1.7866666666666666,
          1.786,
          1.7613333333333334,
          1.7273333333333334,
          1.6793333333333331,
          1.676,
          1.6079999999999999,
          1.5906666666666662,
          1.5046666666666666,
          1.464,
          1.4579999999999997,
          1.4473333333333331,
          1.4280000000000002,
          1.4033333333333333,
          1.3826666666666667,
          1.25,
          1.1046666666666665,
          0.9853333333333332,
          0.6446666666666666,
          0.46333333333333326,
          0.324
         ],
         "zmax": 20,
         "zmin": -5
        }
       ],
       "layout": {
        "geo": {
         "projection": {
          "type": "equirectangular"
         },
         "showcoastlines": false,
         "showframe": false
        },
        "template": {
         "data": {
          "bar": [
           {
            "error_x": {
             "color": "#2a3f5f"
            },
            "error_y": {
             "color": "#2a3f5f"
            },
            "marker": {
             "line": {
              "color": "#E5ECF6",
              "width": 0.5
             },
             "pattern": {
              "fillmode": "overlay",
              "size": 10,
              "solidity": 0.2
             }
            },
            "type": "bar"
           }
          ],
          "barpolar": [
           {
            "marker": {
             "line": {
              "color": "#E5ECF6",
              "width": 0.5
             },
             "pattern": {
              "fillmode": "overlay",
              "size": 10,
              "solidity": 0.2
             }
            },
            "type": "barpolar"
           }
          ],
          "carpet": [
           {
            "aaxis": {
             "endlinecolor": "#2a3f5f",
             "gridcolor": "white",
             "linecolor": "white",
             "minorgridcolor": "white",
             "startlinecolor": "#2a3f5f"
            },
            "baxis": {
             "endlinecolor": "#2a3f5f",
             "gridcolor": "white",
             "linecolor": "white",
             "minorgridcolor": "white",
             "startlinecolor": "#2a3f5f"
            },
            "type": "carpet"
           }
          ],
          "choropleth": [
           {
            "colorbar": {
             "outlinewidth": 0,
             "ticks": ""
            },
            "type": "choropleth"
           }
          ],
          "contour": [
           {
            "colorbar": {
             "outlinewidth": 0,
             "ticks": ""
            },
            "colorscale": [
             [
              0,
              "#0d0887"
             ],
             [
              0.1111111111111111,
              "#46039f"
             ],
             [
              0.2222222222222222,
              "#7201a8"
             ],
             [
              0.3333333333333333,
              "#9c179e"
             ],
             [
              0.4444444444444444,
              "#bd3786"
             ],
             [
              0.5555555555555556,
              "#d8576b"
             ],
             [
              0.6666666666666666,
              "#ed7953"
             ],
             [
              0.7777777777777778,
              "#fb9f3a"
             ],
             [
              0.8888888888888888,
              "#fdca26"
             ],
             [
              1,
              "#f0f921"
             ]
            ],
            "type": "contour"
           }
          ],
          "contourcarpet": [
           {
            "colorbar": {
             "outlinewidth": 0,
             "ticks": ""
            },
            "type": "contourcarpet"
           }
          ],
          "heatmap": [
           {
            "colorbar": {
             "outlinewidth": 0,
             "ticks": ""
            },
            "colorscale": [
             [
              0,
              "#0d0887"
             ],
             [
              0.1111111111111111,
              "#46039f"
             ],
             [
              0.2222222222222222,
              "#7201a8"
             ],
             [
              0.3333333333333333,
              "#9c179e"
             ],
             [
              0.4444444444444444,
              "#bd3786"
             ],
             [
              0.5555555555555556,
              "#d8576b"
             ],
             [
              0.6666666666666666,
              "#ed7953"
             ],
             [
              0.7777777777777778,
              "#fb9f3a"
             ],
             [
              0.8888888888888888,
              "#fdca26"
             ],
             [
              1,
              "#f0f921"
             ]
            ],
            "type": "heatmap"
           }
          ],
          "heatmapgl": [
           {
            "colorbar": {
             "outlinewidth": 0,
             "ticks": ""
            },
            "colorscale": [
             [
              0,
              "#0d0887"
             ],
             [
              0.1111111111111111,
              "#46039f"
             ],
             [
              0.2222222222222222,
              "#7201a8"
             ],
             [
              0.3333333333333333,
              "#9c179e"
             ],
             [
              0.4444444444444444,
              "#bd3786"
             ],
             [
              0.5555555555555556,
              "#d8576b"
             ],
             [
              0.6666666666666666,
              "#ed7953"
             ],
             [
              0.7777777777777778,
              "#fb9f3a"
             ],
             [
              0.8888888888888888,
              "#fdca26"
             ],
             [
              1,
              "#f0f921"
             ]
            ],
            "type": "heatmapgl"
           }
          ],
          "histogram": [
           {
            "marker": {
             "pattern": {
              "fillmode": "overlay",
              "size": 10,
              "solidity": 0.2
             }
            },
            "type": "histogram"
           }
          ],
          "histogram2d": [
           {
            "colorbar": {
             "outlinewidth": 0,
             "ticks": ""
            },
            "colorscale": [
             [
              0,
              "#0d0887"
             ],
             [
              0.1111111111111111,
              "#46039f"
             ],
             [
              0.2222222222222222,
              "#7201a8"
             ],
             [
              0.3333333333333333,
              "#9c179e"
             ],
             [
              0.4444444444444444,
              "#bd3786"
             ],
             [
              0.5555555555555556,
              "#d8576b"
             ],
             [
              0.6666666666666666,
              "#ed7953"
             ],
             [
              0.7777777777777778,
              "#fb9f3a"
             ],
             [
              0.8888888888888888,
              "#fdca26"
             ],
             [
              1,
              "#f0f921"
             ]
            ],
            "type": "histogram2d"
           }
          ],
          "histogram2dcontour": [
           {
            "colorbar": {
             "outlinewidth": 0,
             "ticks": ""
            },
            "colorscale": [
             [
              0,
              "#0d0887"
             ],
             [
              0.1111111111111111,
              "#46039f"
             ],
             [
              0.2222222222222222,
              "#7201a8"
             ],
             [
              0.3333333333333333,
              "#9c179e"
             ],
             [
              0.4444444444444444,
              "#bd3786"
             ],
             [
              0.5555555555555556,
              "#d8576b"
             ],
             [
              0.6666666666666666,
              "#ed7953"
             ],
             [
              0.7777777777777778,
              "#fb9f3a"
             ],
             [
              0.8888888888888888,
              "#fdca26"
             ],
             [
              1,
              "#f0f921"
             ]
            ],
            "type": "histogram2dcontour"
           }
          ],
          "mesh3d": [
           {
            "colorbar": {
             "outlinewidth": 0,
             "ticks": ""
            },
            "type": "mesh3d"
           }
          ],
          "parcoords": [
           {
            "line": {
             "colorbar": {
              "outlinewidth": 0,
              "ticks": ""
             }
            },
            "type": "parcoords"
           }
          ],
          "pie": [
           {
            "automargin": true,
            "type": "pie"
           }
          ],
          "scatter": [
           {
            "fillpattern": {
             "fillmode": "overlay",
             "size": 10,
             "solidity": 0.2
            },
            "type": "scatter"
           }
          ],
          "scatter3d": [
           {
            "line": {
             "colorbar": {
              "outlinewidth": 0,
              "ticks": ""
             }
            },
            "marker": {
             "colorbar": {
              "outlinewidth": 0,
              "ticks": ""
             }
            },
            "type": "scatter3d"
           }
          ],
          "scattercarpet": [
           {
            "marker": {
             "colorbar": {
              "outlinewidth": 0,
              "ticks": ""
             }
            },
            "type": "scattercarpet"
           }
          ],
          "scattergeo": [
           {
            "marker": {
             "colorbar": {
              "outlinewidth": 0,
              "ticks": ""
             }
            },
            "type": "scattergeo"
           }
          ],
          "scattergl": [
           {
            "marker": {
             "colorbar": {
              "outlinewidth": 0,
              "ticks": ""
             }
            },
            "type": "scattergl"
           }
          ],
          "scattermapbox": [
           {
            "marker": {
             "colorbar": {
              "outlinewidth": 0,
              "ticks": ""
             }
            },
            "type": "scattermapbox"
           }
          ],
          "scatterpolar": [
           {
            "marker": {
             "colorbar": {
              "outlinewidth": 0,
              "ticks": ""
             }
            },
            "type": "scatterpolar"
           }
          ],
          "scatterpolargl": [
           {
            "marker": {
             "colorbar": {
              "outlinewidth": 0,
              "ticks": ""
             }
            },
            "type": "scatterpolargl"
           }
          ],
          "scatterternary": [
           {
            "marker": {
             "colorbar": {
              "outlinewidth": 0,
              "ticks": ""
             }
            },
            "type": "scatterternary"
           }
          ],
          "surface": [
           {
            "colorbar": {
             "outlinewidth": 0,
             "ticks": ""
            },
            "colorscale": [
             [
              0,
              "#0d0887"
             ],
             [
              0.1111111111111111,
              "#46039f"
             ],
             [
              0.2222222222222222,
              "#7201a8"
             ],
             [
              0.3333333333333333,
              "#9c179e"
             ],
             [
              0.4444444444444444,
              "#bd3786"
             ],
             [
              0.5555555555555556,
              "#d8576b"
             ],
             [
              0.6666666666666666,
              "#ed7953"
             ],
             [
              0.7777777777777778,
              "#fb9f3a"
             ],
             [
              0.8888888888888888,
              "#fdca26"
             ],
             [
              1,
              "#f0f921"
             ]
            ],
            "type": "surface"
           }
          ],
          "table": [
           {
            "cells": {
             "fill": {
              "color": "#EBF0F8"
             },
             "line": {
              "color": "white"
             }
            },
            "header": {
             "fill": {
              "color": "#C8D4E3"
             },
             "line": {
              "color": "white"
             }
            },
            "type": "table"
           }
          ]
         },
         "layout": {
          "annotationdefaults": {
           "arrowcolor": "#2a3f5f",
           "arrowhead": 0,
           "arrowwidth": 1
          },
          "autotypenumbers": "strict",
          "coloraxis": {
           "colorbar": {
            "outlinewidth": 0,
            "ticks": ""
           }
          },
          "colorscale": {
           "diverging": [
            [
             0,
             "#8e0152"
            ],
            [
             0.1,
             "#c51b7d"
            ],
            [
             0.2,
             "#de77ae"
            ],
            [
             0.3,
             "#f1b6da"
            ],
            [
             0.4,
             "#fde0ef"
            ],
            [
             0.5,
             "#f7f7f7"
            ],
            [
             0.6,
             "#e6f5d0"
            ],
            [
             0.7,
             "#b8e186"
            ],
            [
             0.8,
             "#7fbc41"
            ],
            [
             0.9,
             "#4d9221"
            ],
            [
             1,
             "#276419"
            ]
           ],
           "sequential": [
            [
             0,
             "#0d0887"
            ],
            [
             0.1111111111111111,
             "#46039f"
            ],
            [
             0.2222222222222222,
             "#7201a8"
            ],
            [
             0.3333333333333333,
             "#9c179e"
            ],
            [
             0.4444444444444444,
             "#bd3786"
            ],
            [
             0.5555555555555556,
             "#d8576b"
            ],
            [
             0.6666666666666666,
             "#ed7953"
            ],
            [
             0.7777777777777778,
             "#fb9f3a"
            ],
            [
             0.8888888888888888,
             "#fdca26"
            ],
            [
             1,
             "#f0f921"
            ]
           ],
           "sequentialminus": [
            [
             0,
             "#0d0887"
            ],
            [
             0.1111111111111111,
             "#46039f"
            ],
            [
             0.2222222222222222,
             "#7201a8"
            ],
            [
             0.3333333333333333,
             "#9c179e"
            ],
            [
             0.4444444444444444,
             "#bd3786"
            ],
            [
             0.5555555555555556,
             "#d8576b"
            ],
            [
             0.6666666666666666,
             "#ed7953"
            ],
            [
             0.7777777777777778,
             "#fb9f3a"
            ],
            [
             0.8888888888888888,
             "#fdca26"
            ],
            [
             1,
             "#f0f921"
            ]
           ]
          },
          "colorway": [
           "#636efa",
           "#EF553B",
           "#00cc96",
           "#ab63fa",
           "#FFA15A",
           "#19d3f3",
           "#FF6692",
           "#B6E880",
           "#FF97FF",
           "#FECB52"
          ],
          "font": {
           "color": "#2a3f5f"
          },
          "geo": {
           "bgcolor": "white",
           "lakecolor": "white",
           "landcolor": "#E5ECF6",
           "showlakes": true,
           "showland": true,
           "subunitcolor": "white"
          },
          "hoverlabel": {
           "align": "left"
          },
          "hovermode": "closest",
          "mapbox": {
           "style": "light"
          },
          "paper_bgcolor": "white",
          "plot_bgcolor": "#E5ECF6",
          "polar": {
           "angularaxis": {
            "gridcolor": "white",
            "linecolor": "white",
            "ticks": ""
           },
           "bgcolor": "#E5ECF6",
           "radialaxis": {
            "gridcolor": "white",
            "linecolor": "white",
            "ticks": ""
           }
          },
          "scene": {
           "xaxis": {
            "backgroundcolor": "#E5ECF6",
            "gridcolor": "white",
            "gridwidth": 2,
            "linecolor": "white",
            "showbackground": true,
            "ticks": "",
            "zerolinecolor": "white"
           },
           "yaxis": {
            "backgroundcolor": "#E5ECF6",
            "gridcolor": "white",
            "gridwidth": 2,
            "linecolor": "white",
            "showbackground": true,
            "ticks": "",
            "zerolinecolor": "white"
           },
           "zaxis": {
            "backgroundcolor": "#E5ECF6",
            "gridcolor": "white",
            "gridwidth": 2,
            "linecolor": "white",
            "showbackground": true,
            "ticks": "",
            "zerolinecolor": "white"
           }
          },
          "shapedefaults": {
           "line": {
            "color": "#2a3f5f"
           }
          },
          "ternary": {
           "aaxis": {
            "gridcolor": "white",
            "linecolor": "white",
            "ticks": ""
           },
           "baxis": {
            "gridcolor": "white",
            "linecolor": "white",
            "ticks": ""
           },
           "bgcolor": "#E5ECF6",
           "caxis": {
            "gridcolor": "white",
            "linecolor": "white",
            "ticks": ""
           }
          },
          "title": {
           "x": 0.05
          },
          "xaxis": {
           "automargin": true,
           "gridcolor": "white",
           "linecolor": "white",
           "ticks": "",
           "title": {
            "standoff": 15
           },
           "zerolinecolor": "white",
           "zerolinewidth": 2
          },
          "yaxis": {
           "automargin": true,
           "gridcolor": "white",
           "linecolor": "white",
           "ticks": "",
           "title": {
            "standoff": 15
           },
           "zerolinecolor": "white",
           "zerolinewidth": 2
          }
         }
        },
        "title": {
         "text": "Mean Annual Inflation by Country 2008-2022(%)"
        }
       }
      }
     },
     "metadata": {},
     "output_type": "display_data"
    }
   ],
   "source": [
    "import plotly.graph_objs as go\n",
    "\n",
    "data = go.Choropleth(\n",
    "    locations=sorted_df['Country Code'],\n",
    "    z=sorted_df['mean_inflation'],\n",
    "    text=sorted_df['Country'],\n",
    "    colorscale='Viridis',\n",
    "    zmin=-5, # set the minimum value of the scale\n",
    "    zmax=20, # set the maximum value of the scale\n",
    "    colorbar=dict(\n",
    "        title='Mean Inflation',\n",
    "        tickvals=[-5, 0, 5, 10, 15, 20], # set the tick values of the color bar\n",
    "        ticktext=['< -5', '0', '5', '10', '15', '> 20'] # set the tick text of the color bar\n",
    "    )\n",
    ")\n",
    "\n",
    "layout = go.Layout(\n",
    "    title='Mean Annual Inflation by Country 2008-2022(%)',\n",
    "    geo=dict(\n",
    "        showframe=False,\n",
    "        showcoastlines=False,\n",
    "        projection_type='equirectangular'\n",
    "    )\n",
    ")\n",
    "\n",
    "fig = go.Figure(data=data, layout=layout)\n",
    "fig.show()\n"
   ]
  },
  {
   "cell_type": "code",
   "execution_count": 21,
   "metadata": {},
   "outputs": [],
   "source": [
    "sorted_df.to_csv('/home/graham/Documents/Ironhack/Final-Project/data/inflation_df.csv')"
   ]
  },
  {
   "cell_type": "code",
   "execution_count": null,
   "metadata": {},
   "outputs": [],
   "source": []
  }
 ],
 "metadata": {
  "kernelspec": {
   "display_name": "streamlit",
   "language": "python",
   "name": "python3"
  },
  "language_info": {
   "codemirror_mode": {
    "name": "ipython",
    "version": 3
   },
   "file_extension": ".py",
   "mimetype": "text/x-python",
   "name": "python",
   "nbconvert_exporter": "python",
   "pygments_lexer": "ipython3",
   "version": "3.10.9"
  },
  "orig_nbformat": 4,
  "vscode": {
   "interpreter": {
    "hash": "59f2a27d9d0b42ccb4ddc965b6138136223b014ad49348f736cfd5d73a145143"
   }
  }
 },
 "nbformat": 4,
 "nbformat_minor": 2
}
