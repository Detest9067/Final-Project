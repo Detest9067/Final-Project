{
 "cells": [
  {
   "cell_type": "code",
   "execution_count": null,
   "metadata": {},
   "outputs": [],
   "source": [
    "import sys\n",
    "sys.path.append(r\"/home/graham/Documents/Ironhack/Final-Project\")\n",
    "import src"
   ]
  },
  {
   "cell_type": "code",
   "execution_count": null,
   "metadata": {},
   "outputs": [],
   "source": [
    "'''USING H20 TO FIND BETTER MODELS'''\n",
    "import h2o\n",
    "from h2o.automl import H2OAutoML\n",
    "\n",
    "# Start H2O cluster\n",
    "h2o.init()"
   ]
  },
  {
   "cell_type": "code",
   "execution_count": null,
   "metadata": {},
   "outputs": [],
   "source": [
    "path = ('/home/graham/Documents/Ironhack/Final-Project/data/combined_data.csv')\n",
    "df = src.read_csv_file(path)\n"
   ]
  },
  {
   "cell_type": "code",
   "execution_count": null,
   "metadata": {},
   "outputs": [],
   "source": [
    "df = h2o.import_file(path)"
   ]
  },
  {
   "cell_type": "code",
   "execution_count": null,
   "metadata": {},
   "outputs": [],
   "source": [
    "from sklearn.metrics import r2_score\n",
    "target_col = '2022 Inf'\n",
    "train, valid = df.split_frame(ratios=[0.7], seed=42)\n",
    "# Define AutoML settings\n",
    "aml_settings = {\n",
    "    'max_models': 50,\n",
    "    'max_runtime_secs': 300,\n",
    "    'seed': 35,\n",
    "    'balance_classes': True,\n",
    "    'nfolds': 15, \n",
    "}\n",
    "\n",
    "# Initialize AutoML\n",
    "aml = H2OAutoML(**aml_settings)\n",
    "\n",
    "# Train AutoML\n",
    "aml.train(y=target_col, training_frame=train, validation_frame=valid)\n",
    "best_model = aml.leader\n",
    "\n",
    "# Make predictions\n",
    "predictions = best_model.predict(valid)\n",
    "\n",
    "# Get the actual values\n",
    "actuals = valid[target_col].as_data_frame().values\n",
    "\n",
    "r2 = r2_score(actuals, predictions.as_data_frame().values)\n",
    "print(\"R-squared score:\", r2)\n",
    "\n"
   ]
  },
  {
   "cell_type": "code",
   "execution_count": null,
   "metadata": {},
   "outputs": [],
   "source": [
    "lb = aml.leaderboard\n",
    "print(lb)"
   ]
  }
 ],
 "metadata": {
  "language_info": {
   "name": "python"
  },
  "orig_nbformat": 4
 },
 "nbformat": 4,
 "nbformat_minor": 2
}
