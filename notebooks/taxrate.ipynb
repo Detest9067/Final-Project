{
 "cells": [
  {
   "cell_type": "code",
   "execution_count": 2,
   "metadata": {},
   "outputs": [],
   "source": [
    "import sys\n",
    "sys.path.append(r\"/home/graham/Documents/Ironhack/Final-Project\")\n",
    "\n",
    "import src\n",
    "\n",
    "import matplotlib.pyplot as plt\n"
   ]
  },
  {
   "cell_type": "code",
   "execution_count": 3,
   "metadata": {},
   "outputs": [],
   "source": [
    "path = '/home/graham/Documents/Ironhack/Final-Project/data/tax-rates.csv'\n",
    "tax_df = src.read_csv_file(path)"
   ]
  },
  {
   "cell_type": "code",
   "execution_count": 4,
   "metadata": {},
   "outputs": [],
   "source": [
    "tax_df = tax_df.drop(['Unnamed: 0', 'iso_2', 'iso_3', 'continent'], axis=1)\n"
   ]
  },
  {
   "cell_type": "code",
   "execution_count": 5,
   "metadata": {},
   "outputs": [],
   "source": [
    "tax_df = tax_df.drop(columns=[col for col in tax_df.columns if col.isdigit() and 1980 <= int(col) <= 2007])\n"
   ]
  },
  {
   "cell_type": "code",
   "execution_count": 6,
   "metadata": {},
   "outputs": [],
   "source": [
    "tax_df = tax_df.dropna()"
   ]
  },
  {
   "cell_type": "code",
   "execution_count": 7,
   "metadata": {},
   "outputs": [],
   "source": [
    "tax_df['mean_tax_rate'] = tax_df.loc[:, '2008':'2022'].mean(axis=1)\n"
   ]
  },
  {
   "cell_type": "code",
   "execution_count": 8,
   "metadata": {},
   "outputs": [
    {
     "data": {
      "text/html": [
       "<div>\n",
       "<style scoped>\n",
       "    .dataframe tbody tr th:only-of-type {\n",
       "        vertical-align: middle;\n",
       "    }\n",
       "\n",
       "    .dataframe tbody tr th {\n",
       "        vertical-align: top;\n",
       "    }\n",
       "\n",
       "    .dataframe thead th {\n",
       "        text-align: right;\n",
       "    }\n",
       "</style>\n",
       "<table border=\"1\" class=\"dataframe\">\n",
       "  <thead>\n",
       "    <tr style=\"text-align: right;\">\n",
       "      <th></th>\n",
       "      <th>country</th>\n",
       "      <th>2008</th>\n",
       "      <th>2009</th>\n",
       "      <th>2010</th>\n",
       "      <th>2011</th>\n",
       "      <th>2012</th>\n",
       "      <th>2013</th>\n",
       "      <th>2014</th>\n",
       "      <th>2015</th>\n",
       "      <th>2016</th>\n",
       "      <th>2017</th>\n",
       "      <th>2018</th>\n",
       "      <th>2019</th>\n",
       "      <th>2020</th>\n",
       "      <th>2021</th>\n",
       "      <th>2022</th>\n",
       "      <th>mean_tax_rate</th>\n",
       "    </tr>\n",
       "  </thead>\n",
       "  <tbody>\n",
       "    <tr>\n",
       "      <th>0</th>\n",
       "      <td>Aruba</td>\n",
       "      <td>28.00</td>\n",
       "      <td>28.00</td>\n",
       "      <td>28.00</td>\n",
       "      <td>28.00</td>\n",
       "      <td>28.00</td>\n",
       "      <td>28.00</td>\n",
       "      <td>28.00</td>\n",
       "      <td>28.00</td>\n",
       "      <td>25.00</td>\n",
       "      <td>25.00</td>\n",
       "      <td>25.00</td>\n",
       "      <td>25.00</td>\n",
       "      <td>25.00</td>\n",
       "      <td>25.00</td>\n",
       "      <td>25.00</td>\n",
       "      <td>26.600000</td>\n",
       "    </tr>\n",
       "    <tr>\n",
       "      <th>1</th>\n",
       "      <td>Afghanistan</td>\n",
       "      <td>20.00</td>\n",
       "      <td>20.00</td>\n",
       "      <td>20.00</td>\n",
       "      <td>20.00</td>\n",
       "      <td>20.00</td>\n",
       "      <td>20.00</td>\n",
       "      <td>20.00</td>\n",
       "      <td>20.00</td>\n",
       "      <td>20.00</td>\n",
       "      <td>20.00</td>\n",
       "      <td>20.00</td>\n",
       "      <td>20.00</td>\n",
       "      <td>20.00</td>\n",
       "      <td>20.00</td>\n",
       "      <td>20.00</td>\n",
       "      <td>20.000000</td>\n",
       "    </tr>\n",
       "    <tr>\n",
       "      <th>2</th>\n",
       "      <td>Angola</td>\n",
       "      <td>35.00</td>\n",
       "      <td>35.00</td>\n",
       "      <td>35.00</td>\n",
       "      <td>35.00</td>\n",
       "      <td>35.00</td>\n",
       "      <td>35.00</td>\n",
       "      <td>35.00</td>\n",
       "      <td>30.00</td>\n",
       "      <td>30.00</td>\n",
       "      <td>30.00</td>\n",
       "      <td>30.00</td>\n",
       "      <td>30.00</td>\n",
       "      <td>30.00</td>\n",
       "      <td>25.00</td>\n",
       "      <td>25.00</td>\n",
       "      <td>31.666667</td>\n",
       "    </tr>\n",
       "    <tr>\n",
       "      <th>3</th>\n",
       "      <td>Anguilla</td>\n",
       "      <td>0.00</td>\n",
       "      <td>0.00</td>\n",
       "      <td>0.00</td>\n",
       "      <td>0.00</td>\n",
       "      <td>0.00</td>\n",
       "      <td>0.00</td>\n",
       "      <td>0.00</td>\n",
       "      <td>0.00</td>\n",
       "      <td>0.00</td>\n",
       "      <td>0.00</td>\n",
       "      <td>0.00</td>\n",
       "      <td>0.00</td>\n",
       "      <td>0.00</td>\n",
       "      <td>0.00</td>\n",
       "      <td>0.00</td>\n",
       "      <td>0.000000</td>\n",
       "    </tr>\n",
       "    <tr>\n",
       "      <th>5</th>\n",
       "      <td>Albania</td>\n",
       "      <td>10.00</td>\n",
       "      <td>10.00</td>\n",
       "      <td>10.00</td>\n",
       "      <td>10.00</td>\n",
       "      <td>10.00</td>\n",
       "      <td>10.00</td>\n",
       "      <td>15.00</td>\n",
       "      <td>15.00</td>\n",
       "      <td>15.00</td>\n",
       "      <td>15.00</td>\n",
       "      <td>15.00</td>\n",
       "      <td>15.00</td>\n",
       "      <td>15.00</td>\n",
       "      <td>15.00</td>\n",
       "      <td>15.00</td>\n",
       "      <td>13.000000</td>\n",
       "    </tr>\n",
       "    <tr>\n",
       "      <th>...</th>\n",
       "      <td>...</td>\n",
       "      <td>...</td>\n",
       "      <td>...</td>\n",
       "      <td>...</td>\n",
       "      <td>...</td>\n",
       "      <td>...</td>\n",
       "      <td>...</td>\n",
       "      <td>...</td>\n",
       "      <td>...</td>\n",
       "      <td>...</td>\n",
       "      <td>...</td>\n",
       "      <td>...</td>\n",
       "      <td>...</td>\n",
       "      <td>...</td>\n",
       "      <td>...</td>\n",
       "      <td>...</td>\n",
       "      <td>...</td>\n",
       "    </tr>\n",
       "    <tr>\n",
       "      <th>245</th>\n",
       "      <td>Samoa</td>\n",
       "      <td>27.00</td>\n",
       "      <td>27.00</td>\n",
       "      <td>27.00</td>\n",
       "      <td>27.00</td>\n",
       "      <td>27.00</td>\n",
       "      <td>27.00</td>\n",
       "      <td>27.00</td>\n",
       "      <td>27.00</td>\n",
       "      <td>27.00</td>\n",
       "      <td>27.00</td>\n",
       "      <td>27.00</td>\n",
       "      <td>27.00</td>\n",
       "      <td>27.00</td>\n",
       "      <td>27.00</td>\n",
       "      <td>27.00</td>\n",
       "      <td>27.000000</td>\n",
       "    </tr>\n",
       "    <tr>\n",
       "      <th>247</th>\n",
       "      <td>Yemen</td>\n",
       "      <td>35.00</td>\n",
       "      <td>35.00</td>\n",
       "      <td>35.00</td>\n",
       "      <td>20.00</td>\n",
       "      <td>20.00</td>\n",
       "      <td>20.00</td>\n",
       "      <td>20.00</td>\n",
       "      <td>20.00</td>\n",
       "      <td>20.00</td>\n",
       "      <td>20.00</td>\n",
       "      <td>20.00</td>\n",
       "      <td>20.00</td>\n",
       "      <td>20.00</td>\n",
       "      <td>20.00</td>\n",
       "      <td>20.00</td>\n",
       "      <td>23.000000</td>\n",
       "    </tr>\n",
       "    <tr>\n",
       "      <th>248</th>\n",
       "      <td>South Africa</td>\n",
       "      <td>34.55</td>\n",
       "      <td>34.55</td>\n",
       "      <td>34.55</td>\n",
       "      <td>34.55</td>\n",
       "      <td>34.55</td>\n",
       "      <td>28.00</td>\n",
       "      <td>28.00</td>\n",
       "      <td>28.00</td>\n",
       "      <td>28.00</td>\n",
       "      <td>28.00</td>\n",
       "      <td>28.00</td>\n",
       "      <td>28.00</td>\n",
       "      <td>28.00</td>\n",
       "      <td>28.00</td>\n",
       "      <td>28.00</td>\n",
       "      <td>30.183333</td>\n",
       "    </tr>\n",
       "    <tr>\n",
       "      <th>249</th>\n",
       "      <td>Zambia</td>\n",
       "      <td>35.00</td>\n",
       "      <td>35.00</td>\n",
       "      <td>35.00</td>\n",
       "      <td>35.00</td>\n",
       "      <td>35.00</td>\n",
       "      <td>35.00</td>\n",
       "      <td>35.00</td>\n",
       "      <td>35.00</td>\n",
       "      <td>35.00</td>\n",
       "      <td>35.00</td>\n",
       "      <td>35.00</td>\n",
       "      <td>35.00</td>\n",
       "      <td>35.00</td>\n",
       "      <td>35.00</td>\n",
       "      <td>30.00</td>\n",
       "      <td>34.666667</td>\n",
       "    </tr>\n",
       "    <tr>\n",
       "      <th>250</th>\n",
       "      <td>Zimbabwe</td>\n",
       "      <td>30.90</td>\n",
       "      <td>30.90</td>\n",
       "      <td>25.75</td>\n",
       "      <td>25.75</td>\n",
       "      <td>25.75</td>\n",
       "      <td>25.75</td>\n",
       "      <td>25.75</td>\n",
       "      <td>25.75</td>\n",
       "      <td>25.75</td>\n",
       "      <td>25.75</td>\n",
       "      <td>25.75</td>\n",
       "      <td>25.75</td>\n",
       "      <td>24.72</td>\n",
       "      <td>24.72</td>\n",
       "      <td>24.72</td>\n",
       "      <td>26.230667</td>\n",
       "    </tr>\n",
       "  </tbody>\n",
       "</table>\n",
       "<p>174 rows × 17 columns</p>\n",
       "</div>"
      ],
      "text/plain": [
       "          country   2008   2009   2010   2011   2012   2013   2014   2015  \\\n",
       "0           Aruba  28.00  28.00  28.00  28.00  28.00  28.00  28.00  28.00   \n",
       "1     Afghanistan  20.00  20.00  20.00  20.00  20.00  20.00  20.00  20.00   \n",
       "2          Angola  35.00  35.00  35.00  35.00  35.00  35.00  35.00  30.00   \n",
       "3        Anguilla   0.00   0.00   0.00   0.00   0.00   0.00   0.00   0.00   \n",
       "5         Albania  10.00  10.00  10.00  10.00  10.00  10.00  15.00  15.00   \n",
       "..            ...    ...    ...    ...    ...    ...    ...    ...    ...   \n",
       "245         Samoa  27.00  27.00  27.00  27.00  27.00  27.00  27.00  27.00   \n",
       "247         Yemen  35.00  35.00  35.00  20.00  20.00  20.00  20.00  20.00   \n",
       "248  South Africa  34.55  34.55  34.55  34.55  34.55  28.00  28.00  28.00   \n",
       "249        Zambia  35.00  35.00  35.00  35.00  35.00  35.00  35.00  35.00   \n",
       "250      Zimbabwe  30.90  30.90  25.75  25.75  25.75  25.75  25.75  25.75   \n",
       "\n",
       "      2016   2017   2018   2019   2020   2021   2022  mean_tax_rate  \n",
       "0    25.00  25.00  25.00  25.00  25.00  25.00  25.00      26.600000  \n",
       "1    20.00  20.00  20.00  20.00  20.00  20.00  20.00      20.000000  \n",
       "2    30.00  30.00  30.00  30.00  30.00  25.00  25.00      31.666667  \n",
       "3     0.00   0.00   0.00   0.00   0.00   0.00   0.00       0.000000  \n",
       "5    15.00  15.00  15.00  15.00  15.00  15.00  15.00      13.000000  \n",
       "..     ...    ...    ...    ...    ...    ...    ...            ...  \n",
       "245  27.00  27.00  27.00  27.00  27.00  27.00  27.00      27.000000  \n",
       "247  20.00  20.00  20.00  20.00  20.00  20.00  20.00      23.000000  \n",
       "248  28.00  28.00  28.00  28.00  28.00  28.00  28.00      30.183333  \n",
       "249  35.00  35.00  35.00  35.00  35.00  35.00  30.00      34.666667  \n",
       "250  25.75  25.75  25.75  25.75  24.72  24.72  24.72      26.230667  \n",
       "\n",
       "[174 rows x 17 columns]"
      ]
     },
     "execution_count": 8,
     "metadata": {},
     "output_type": "execute_result"
    }
   ],
   "source": [
    "tax_df"
   ]
  },
  {
   "cell_type": "code",
   "execution_count": 9,
   "metadata": {},
   "outputs": [],
   "source": [
    "tax_df = tax_df.reset_index(drop=True).sort_values('mean_tax_rate', ascending=False)\n"
   ]
  },
  {
   "cell_type": "code",
   "execution_count": 10,
   "metadata": {},
   "outputs": [
    {
     "data": {
      "text/html": [
       "<div>\n",
       "<style scoped>\n",
       "    .dataframe tbody tr th:only-of-type {\n",
       "        vertical-align: middle;\n",
       "    }\n",
       "\n",
       "    .dataframe tbody tr th {\n",
       "        vertical-align: top;\n",
       "    }\n",
       "\n",
       "    .dataframe thead th {\n",
       "        text-align: right;\n",
       "    }\n",
       "</style>\n",
       "<table border=\"1\" class=\"dataframe\">\n",
       "  <thead>\n",
       "    <tr style=\"text-align: right;\">\n",
       "      <th></th>\n",
       "      <th>country</th>\n",
       "      <th>mean_tax_rate</th>\n",
       "    </tr>\n",
       "  </thead>\n",
       "  <tbody>\n",
       "    <tr>\n",
       "      <th>131</th>\n",
       "      <td>Puerto Rico</td>\n",
       "      <td>37.400000</td>\n",
       "    </tr>\n",
       "    <tr>\n",
       "      <th>34</th>\n",
       "      <td>Democratic Republic of the Congo</td>\n",
       "      <td>36.000000</td>\n",
       "    </tr>\n",
       "    <tr>\n",
       "      <th>33</th>\n",
       "      <td>Cameroon</td>\n",
       "      <td>35.566667</td>\n",
       "    </tr>\n",
       "    <tr>\n",
       "      <th>109</th>\n",
       "      <td>Malta</td>\n",
       "      <td>35.000000</td>\n",
       "    </tr>\n",
       "    <tr>\n",
       "      <th>63</th>\n",
       "      <td>Guinea</td>\n",
       "      <td>35.000000</td>\n",
       "    </tr>\n",
       "    <tr>\n",
       "      <th>64</th>\n",
       "      <td>Equatorial Guinea</td>\n",
       "      <td>35.000000</td>\n",
       "    </tr>\n",
       "    <tr>\n",
       "      <th>172</th>\n",
       "      <td>Zambia</td>\n",
       "      <td>34.666667</td>\n",
       "    </tr>\n",
       "    <tr>\n",
       "      <th>162</th>\n",
       "      <td>United States of America</td>\n",
       "      <td>34.663318</td>\n",
       "    </tr>\n",
       "    <tr>\n",
       "      <th>55</th>\n",
       "      <td>France</td>\n",
       "      <td>34.229570</td>\n",
       "    </tr>\n",
       "    <tr>\n",
       "      <th>86</th>\n",
       "      <td>Japan</td>\n",
       "      <td>34.162000</td>\n",
       "    </tr>\n",
       "  </tbody>\n",
       "</table>\n",
       "</div>"
      ],
      "text/plain": [
       "                              country  mean_tax_rate\n",
       "131                       Puerto Rico      37.400000\n",
       "34   Democratic Republic of the Congo      36.000000\n",
       "33                           Cameroon      35.566667\n",
       "109                             Malta      35.000000\n",
       "63                             Guinea      35.000000\n",
       "64                  Equatorial Guinea      35.000000\n",
       "172                            Zambia      34.666667\n",
       "162          United States of America      34.663318\n",
       "55                             France      34.229570\n",
       "86                              Japan      34.162000"
      ]
     },
     "execution_count": 10,
     "metadata": {},
     "output_type": "execute_result"
    }
   ],
   "source": [
    "tax_df[['country', 'mean_tax_rate']].head(10)"
   ]
  },
  {
   "cell_type": "code",
   "execution_count": 11,
   "metadata": {},
   "outputs": [
    {
     "data": {
      "text/html": [
       "<div>\n",
       "<style scoped>\n",
       "    .dataframe tbody tr th:only-of-type {\n",
       "        vertical-align: middle;\n",
       "    }\n",
       "\n",
       "    .dataframe tbody tr th {\n",
       "        vertical-align: top;\n",
       "    }\n",
       "\n",
       "    .dataframe thead th {\n",
       "        text-align: right;\n",
       "    }\n",
       "</style>\n",
       "<table border=\"1\" class=\"dataframe\">\n",
       "  <thead>\n",
       "    <tr style=\"text-align: right;\">\n",
       "      <th></th>\n",
       "      <th>country</th>\n",
       "      <th>mean_tax_rate</th>\n",
       "    </tr>\n",
       "  </thead>\n",
       "  <tbody>\n",
       "    <tr>\n",
       "      <th>60</th>\n",
       "      <td>Guernsey</td>\n",
       "      <td>0.0</td>\n",
       "    </tr>\n",
       "    <tr>\n",
       "      <th>22</th>\n",
       "      <td>Bermuda</td>\n",
       "      <td>0.0</td>\n",
       "    </tr>\n",
       "    <tr>\n",
       "      <th>84</th>\n",
       "      <td>Jersey</td>\n",
       "      <td>0.0</td>\n",
       "    </tr>\n",
       "    <tr>\n",
       "      <th>166</th>\n",
       "      <td>British Virgin Islands</td>\n",
       "      <td>0.0</td>\n",
       "    </tr>\n",
       "    <tr>\n",
       "      <th>6</th>\n",
       "      <td>United Arab Emirates</td>\n",
       "      <td>0.0</td>\n",
       "    </tr>\n",
       "    <tr>\n",
       "      <th>40</th>\n",
       "      <td>Cayman Islands</td>\n",
       "      <td>0.0</td>\n",
       "    </tr>\n",
       "    <tr>\n",
       "      <th>75</th>\n",
       "      <td>Isle of Man</td>\n",
       "      <td>0.0</td>\n",
       "    </tr>\n",
       "    <tr>\n",
       "      <th>17</th>\n",
       "      <td>Bahrain</td>\n",
       "      <td>0.0</td>\n",
       "    </tr>\n",
       "    <tr>\n",
       "      <th>3</th>\n",
       "      <td>Anguilla</td>\n",
       "      <td>0.0</td>\n",
       "    </tr>\n",
       "    <tr>\n",
       "      <th>152</th>\n",
       "      <td>Turks and Caicos Islands</td>\n",
       "      <td>0.0</td>\n",
       "    </tr>\n",
       "  </tbody>\n",
       "</table>\n",
       "</div>"
      ],
      "text/plain": [
       "                      country  mean_tax_rate\n",
       "60                   Guernsey            0.0\n",
       "22                    Bermuda            0.0\n",
       "84                     Jersey            0.0\n",
       "166    British Virgin Islands            0.0\n",
       "6        United Arab Emirates            0.0\n",
       "40             Cayman Islands            0.0\n",
       "75                Isle of Man            0.0\n",
       "17                    Bahrain            0.0\n",
       "3                    Anguilla            0.0\n",
       "152  Turks and Caicos Islands            0.0"
      ]
     },
     "execution_count": 11,
     "metadata": {},
     "output_type": "execute_result"
    }
   ],
   "source": [
    "tax_df[['country', 'mean_tax_rate']].tail(10)"
   ]
  },
  {
   "cell_type": "code",
   "execution_count": 12,
   "metadata": {},
   "outputs": [
    {
     "data": {
      "application/vnd.plotly.v1+json": {
       "config": {
        "plotlyServerURL": "https://plot.ly"
       },
       "data": [
        {
         "coloraxis": "coloraxis",
         "geo": "geo",
         "hovertemplate": "country=%{location}<br>mean_tax_rate=%{z}<extra></extra>",
         "locationmode": "country names",
         "locations": [
          "Puerto Rico",
          "Democratic Republic of the Congo",
          "Cameroon",
          "Malta",
          "Guinea",
          "Equatorial Guinea",
          "Zambia",
          "United States of America",
          "France",
          "Japan",
          "Venezuela (Bolivarian Republic of)",
          "Brazil",
          "Argentina",
          "United States Virgin Islands",
          "Namibia",
          "India",
          "Congo",
          "Pakistan",
          "Saint Vincent and the Grenadines",
          "Mozambique",
          "Monaco",
          "Angola",
          "Gabon",
          "Belgium",
          "Seychelles",
          "Sudan",
          "Colombia",
          "Morocco",
          "Saint Lucia",
          "Northern Mariana Islands",
          "Guam",
          "South Africa",
          "Germany",
          "Costa Rica",
          "Nicaragua",
          "Nigeria",
          "Malawi",
          "Australia",
          "Papua New Guinea",
          "Montserrat",
          "Rwanda",
          "Ethiopia",
          "United Republic of Tanzania",
          "Uganda",
          "Kenya",
          "Italy",
          "Portugal",
          "Greenland",
          "Mexico",
          "Peru",
          "Philippines",
          "Grenada",
          "Sri Lanka",
          "El Salvador",
          "Honduras",
          "Swaziland",
          "New Zealand",
          "Senegal",
          "Syrian Arab Republic",
          "Burkina Faso",
          "Jamaica",
          "Luxembourg",
          "Guatemala",
          "Spain",
          "Dominica",
          "Canada",
          "Bangladesh",
          "Dominican Republic",
          "Liberia",
          "Trinidad and Tobago",
          "Samoa",
          "Aruba",
          "Zimbabwe",
          "Falkland Islands (Malvinas)",
          "Panama",
          "Curacao",
          "Tunisia",
          "Republic of Korea",
          "Norway",
          "Netherlands",
          "Indonesia",
          "China",
          "Mauritania",
          "Lesotho",
          "Cote d'Ivoire",
          "Ghana",
          "Uruguay",
          "Austria",
          "Iran (Islamic Republic of)",
          "Antigua and Barbuda",
          "Bolivia (Plurinational State of)",
          "Greece",
          "Malaysia",
          "Israel",
          "Libya",
          "Ecuador",
          "Denmark",
          "Sweden",
          "Yemen",
          "Fiji",
          "Thailand",
          "Botswana",
          "Viet Nam",
          "Egypt",
          "Finland",
          "United Kingdom of Great Britain and Northern Ireland",
          "Madagascar",
          "Chile",
          "Switzerland",
          "Brunei Darussalam",
          "Slovakia",
          "Kazakhstan",
          "Turkey",
          "Estonia",
          "Azerbaijan",
          "Russian Federation",
          "Barbados",
          "Ukraine",
          "Saudi Arabia",
          "Belize",
          "Afghanistan",
          "Armenia",
          "Belarus",
          "Iceland",
          "Croatia",
          "Czechia",
          "Taiwan",
          "Poland",
          "Slovenia",
          "Jordan",
          "Faroe Islands",
          "Kuwait",
          "Singapore",
          "San Marino",
          "Latvia",
          "China, Hong Kong Special Administrative Region",
          "Romania",
          "Lebanon",
          "Lithuania",
          "Hungary",
          "State of Palestine",
          "Iraq",
          "Mauritius",
          "Georgia",
          "Gibraltar",
          "Liechtenstein",
          "Qatar",
          "Serbia",
          "Albania",
          "Oman",
          "Ireland",
          "China, Macao Special Administrative Region",
          "Cyprus",
          "Uzbekistan",
          "Bosnia and Herzegovina",
          "Paraguay",
          "The former Yugoslav Republic of Macedonia",
          "Bulgaria",
          "Montenegro",
          "Cook Islands",
          "Maldives",
          "Republic of Moldova",
          "Andorra",
          "Bahamas",
          "Guernsey",
          "Bermuda",
          "Jersey",
          "British Virgin Islands",
          "United Arab Emirates",
          "Cayman Islands",
          "Isle of Man",
          "Bahrain",
          "Anguilla",
          "Turks and Caicos Islands"
         ],
         "name": "",
         "type": "choropleth",
         "z": [
          37.4,
          36,
          35.56666666666667,
          35,
          35,
          35,
          34.666666666666664,
          34.66331786666667,
          34.229569999999995,
          34.162000000000006,
          34,
          34,
          34,
          33.366666666666674,
          33.06666666666667,
          32.91133333333334,
          32.46666666666667,
          32.4,
          32.03333333333333,
          32,
          31.80866666666666,
          31.666666666666668,
          31.666666666666668,
          31.604,
          31.6,
          31,
          30.866666666666667,
          30.466666666666665,
          30.444,
          30.333333333333332,
          30.333333333333332,
          30.183333333333334,
          30.07579326666667,
          30,
          30,
          30,
          30,
          30,
          30,
          30,
          30,
          30,
          30,
          30,
          30,
          29.92753,
          29.9,
          29.780000000000005,
          29.733333333333334,
          29.666666666666668,
          29.666666666666668,
          29.466666666666665,
          28.866666666666667,
          28.666666666666668,
          28.666666666666668,
          28.533333333333335,
          28.4,
          28.333333333333332,
          28,
          27.966666666666665,
          27.776666666666664,
          27.60933333333333,
          27.6,
          27.533333333333335,
          27.533333333333335,
          27.349999999999998,
          27.333333333333332,
          27.066666666666666,
          27,
          27,
          27,
          26.6,
          26.230666666666668,
          26,
          25.833333333333332,
          25.733333333333334,
          25.666666666666668,
          25.519999999999996,
          25.466666666666665,
          25.153333333333332,
          25.133333333333333,
          25,
          25,
          25,
          25,
          25,
          25,
          25,
          25,
          25,
          25,
          24.866666666666667,
          24.6,
          24.6,
          24,
          23.8,
          23.466666666666665,
          23.279999999999998,
          23,
          22.933333333333334,
          22.866666666666667,
          22.6,
          22.6,
          22.366666666666667,
          22.2,
          22.133333333333333,
          21.133333333333333,
          21.033333333333335,
          20.96389026666667,
          20.666666666666668,
          20.666666666666668,
          20.666666666666668,
          20.6,
          20.466666666666665,
          20.266666666666666,
          20.266666666666666,
          20.133333333333333,
          20.133333333333333,
          20,
          20,
          20,
          19.6,
          19.6,
          19.2,
          19.2,
          19.2,
          19.066666666666666,
          19,
          18.866666666666667,
          18.666666666666668,
          18,
          17.666666666666668,
          17.133333333333333,
          17,
          16.666666666666668,
          16.5,
          16,
          15.533333333333333,
          15.333333333333334,
          15.133333333333333,
          15,
          15,
          15,
          15,
          13.8,
          13.666666666666666,
          13.333333333333334,
          13.333333333333334,
          13,
          13,
          12.5,
          12,
          11.666666666666666,
          10.5,
          10,
          10,
          10,
          10,
          9.4,
          9.333333333333334,
          9,
          8.4,
          7.333333333333333,
          0,
          0,
          0,
          0,
          0,
          0,
          0,
          0,
          0,
          0,
          0
         ]
        }
       ],
       "layout": {
        "coloraxis": {
         "cmax": 50,
         "cmin": 0,
         "colorbar": {
          "title": {
           "text": "mean_tax_rate"
          }
         },
         "colorscale": [
          [
           0,
           "#440154"
          ],
          [
           0.1111111111111111,
           "#482878"
          ],
          [
           0.2222222222222222,
           "#3e4989"
          ],
          [
           0.3333333333333333,
           "#31688e"
          ],
          [
           0.4444444444444444,
           "#26828e"
          ],
          [
           0.5555555555555556,
           "#1f9e89"
          ],
          [
           0.6666666666666666,
           "#35b779"
          ],
          [
           0.7777777777777778,
           "#6ece58"
          ],
          [
           0.8888888888888888,
           "#b5de2b"
          ],
          [
           1,
           "#fde725"
          ]
         ]
        },
        "geo": {
         "center": {},
         "domain": {
          "x": [
           0,
           1
          ],
          "y": [
           0,
           1
          ]
         }
        },
        "legend": {
         "tracegroupgap": 0
        },
        "template": {
         "data": {
          "candlestick": [
           {
            "decreasing": {
             "line": {
              "color": "#000033"
             }
            },
            "increasing": {
             "line": {
              "color": "#000032"
             }
            },
            "type": "candlestick"
           }
          ],
          "contour": [
           {
            "colorscale": [
             [
              0,
              "#000011"
             ],
             [
              0.1111111111111111,
              "#000012"
             ],
             [
              0.2222222222222222,
              "#000013"
             ],
             [
              0.3333333333333333,
              "#000014"
             ],
             [
              0.4444444444444444,
              "#000015"
             ],
             [
              0.5555555555555556,
              "#000016"
             ],
             [
              0.6666666666666666,
              "#000017"
             ],
             [
              0.7777777777777778,
              "#000018"
             ],
             [
              0.8888888888888888,
              "#000019"
             ],
             [
              1,
              "#000020"
             ]
            ],
            "type": "contour"
           }
          ],
          "contourcarpet": [
           {
            "colorscale": [
             [
              0,
              "#000011"
             ],
             [
              0.1111111111111111,
              "#000012"
             ],
             [
              0.2222222222222222,
              "#000013"
             ],
             [
              0.3333333333333333,
              "#000014"
             ],
             [
              0.4444444444444444,
              "#000015"
             ],
             [
              0.5555555555555556,
              "#000016"
             ],
             [
              0.6666666666666666,
              "#000017"
             ],
             [
              0.7777777777777778,
              "#000018"
             ],
             [
              0.8888888888888888,
              "#000019"
             ],
             [
              1,
              "#000020"
             ]
            ],
            "type": "contourcarpet"
           }
          ],
          "heatmap": [
           {
            "colorscale": [
             [
              0,
              "#000011"
             ],
             [
              0.1111111111111111,
              "#000012"
             ],
             [
              0.2222222222222222,
              "#000013"
             ],
             [
              0.3333333333333333,
              "#000014"
             ],
             [
              0.4444444444444444,
              "#000015"
             ],
             [
              0.5555555555555556,
              "#000016"
             ],
             [
              0.6666666666666666,
              "#000017"
             ],
             [
              0.7777777777777778,
              "#000018"
             ],
             [
              0.8888888888888888,
              "#000019"
             ],
             [
              1,
              "#000020"
             ]
            ],
            "type": "heatmap"
           }
          ],
          "histogram2d": [
           {
            "colorscale": [
             [
              0,
              "#000011"
             ],
             [
              0.1111111111111111,
              "#000012"
             ],
             [
              0.2222222222222222,
              "#000013"
             ],
             [
              0.3333333333333333,
              "#000014"
             ],
             [
              0.4444444444444444,
              "#000015"
             ],
             [
              0.5555555555555556,
              "#000016"
             ],
             [
              0.6666666666666666,
              "#000017"
             ],
             [
              0.7777777777777778,
              "#000018"
             ],
             [
              0.8888888888888888,
              "#000019"
             ],
             [
              1,
              "#000020"
             ]
            ],
            "type": "histogram2d"
           }
          ],
          "icicle": [
           {
            "textfont": {
             "color": "white"
            },
            "type": "icicle"
           }
          ],
          "sankey": [
           {
            "textfont": {
             "color": "#000036"
            },
            "type": "sankey"
           }
          ],
          "scatter": [
           {
            "marker": {
             "line": {
              "width": 0
             }
            },
            "type": "scatter"
           }
          ],
          "table": [
           {
            "cells": {
             "fill": {
              "color": "#000038"
             },
             "font": {
              "color": "#000037"
             },
             "line": {
              "color": "#000039"
             }
            },
            "header": {
             "fill": {
              "color": "#000040"
             },
             "font": {
              "color": "#000036"
             },
             "line": {
              "color": "#000039"
             }
            },
            "type": "table"
           }
          ],
          "waterfall": [
           {
            "connector": {
             "line": {
              "color": "#000036",
              "width": 2
             }
            },
            "decreasing": {
             "marker": {
              "color": "#000033"
             }
            },
            "increasing": {
             "marker": {
              "color": "#000032"
             }
            },
            "totals": {
             "marker": {
              "color": "#000034"
             }
            },
            "type": "waterfall"
           }
          ]
         },
         "layout": {
          "coloraxis": {
           "colorscale": [
            [
             0,
             "#000011"
            ],
            [
             0.1111111111111111,
             "#000012"
            ],
            [
             0.2222222222222222,
             "#000013"
            ],
            [
             0.3333333333333333,
             "#000014"
            ],
            [
             0.4444444444444444,
             "#000015"
            ],
            [
             0.5555555555555556,
             "#000016"
            ],
            [
             0.6666666666666666,
             "#000017"
            ],
            [
             0.7777777777777778,
             "#000018"
            ],
            [
             0.8888888888888888,
             "#000019"
            ],
            [
             1,
             "#000020"
            ]
           ]
          },
          "colorscale": {
           "diverging": [
            [
             0,
             "#000021"
            ],
            [
             0.1,
             "#000022"
            ],
            [
             0.2,
             "#000023"
            ],
            [
             0.3,
             "#000024"
            ],
            [
             0.4,
             "#000025"
            ],
            [
             0.5,
             "#000026"
            ],
            [
             0.6,
             "#000027"
            ],
            [
             0.7,
             "#000028"
            ],
            [
             0.8,
             "#000029"
            ],
            [
             0.9,
             "#000030"
            ],
            [
             1,
             "#000031"
            ]
           ],
           "sequential": [
            [
             0,
             "#000011"
            ],
            [
             0.1111111111111111,
             "#000012"
            ],
            [
             0.2222222222222222,
             "#000013"
            ],
            [
             0.3333333333333333,
             "#000014"
            ],
            [
             0.4444444444444444,
             "#000015"
            ],
            [
             0.5555555555555556,
             "#000016"
            ],
            [
             0.6666666666666666,
             "#000017"
            ],
            [
             0.7777777777777778,
             "#000018"
            ],
            [
             0.8888888888888888,
             "#000019"
            ],
            [
             1,
             "#000020"
            ]
           ],
           "sequentialminus": [
            [
             0,
             "#000011"
            ],
            [
             0.1111111111111111,
             "#000012"
            ],
            [
             0.2222222222222222,
             "#000013"
            ],
            [
             0.3333333333333333,
             "#000014"
            ],
            [
             0.4444444444444444,
             "#000015"
            ],
            [
             0.5555555555555556,
             "#000016"
            ],
            [
             0.6666666666666666,
             "#000017"
            ],
            [
             0.7777777777777778,
             "#000018"
            ],
            [
             0.8888888888888888,
             "#000019"
            ],
            [
             1,
             "#000020"
            ]
           ]
          },
          "colorway": [
           "#000001",
           "#000002",
           "#000003",
           "#000004",
           "#000005",
           "#000006",
           "#000007",
           "#000008",
           "#000009",
           "#000010"
          ]
         }
        },
        "title": {
         "text": "Average Tax Rates by Country"
        }
       }
      }
     },
     "metadata": {},
     "output_type": "display_data"
    }
   ],
   "source": [
    "import plotly.express as px\n",
    "\n",
    "fig = px.choropleth(tax_df, \n",
    "                    locations='country', \n",
    "                    locationmode='country names', \n",
    "                    color='mean_tax_rate', \n",
    "                    color_continuous_scale='Viridis', \n",
    "                    range_color=(0, 50),\n",
    "                    title='Average Tax Rates by Country')\n",
    "\n",
    "fig.show()\n"
   ]
  },
  {
   "cell_type": "code",
   "execution_count": 13,
   "metadata": {},
   "outputs": [],
   "source": [
    "tax_df.to_csv('/home/graham/Documents/Ironhack/Final-Project/data/tax_df.csv')"
   ]
  },
  {
   "cell_type": "code",
   "execution_count": null,
   "metadata": {},
   "outputs": [],
   "source": []
  }
 ],
 "metadata": {
  "kernelspec": {
   "display_name": "streamlit",
   "language": "python",
   "name": "python3"
  },
  "language_info": {
   "codemirror_mode": {
    "name": "ipython",
    "version": 3
   },
   "file_extension": ".py",
   "mimetype": "text/x-python",
   "name": "python",
   "nbconvert_exporter": "python",
   "pygments_lexer": "ipython3",
   "version": "3.10.9"
  },
  "orig_nbformat": 4
 },
 "nbformat": 4,
 "nbformat_minor": 2
}
